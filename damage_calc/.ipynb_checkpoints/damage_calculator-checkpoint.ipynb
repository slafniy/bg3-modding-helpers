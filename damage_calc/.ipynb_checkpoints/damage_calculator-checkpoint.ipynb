{
 "cells": [
  {
   "metadata": {
    "ExecuteTime": {
     "end_time": "2024-11-09T22:51:47.778933Z",
     "start_time": "2024-11-09T22:51:47.281704Z"
    }
   },
   "cell_type": "code",
   "source": [
    "from character import RANGER_LEVEL_5_ARCHERY, RANGER_LEVEL_5_DUAL\n",
    "\n",
    "AC_LOW = 13\n",
    "AC_DEFAULT = 16\n",
    "AC_HIGH = 19\n",
    "AC_MAX = 22\n",
    "\n",
    "COMBAT_LENGTH_SHORT = 3\n",
    "COMBAT_LENGTH_MEDIUM = 6\n",
    "COMBAT_LENGTH_LONG = 10\n",
    "COMBAT_LENGTH_MAX = 15\n",
    "\n",
    "raw = RANGER_LEVEL_5_ARCHERY.simulate(rounds=COMBAT_LENGTH_MEDIUM, target_ac=AC_DEFAULT)"
   ],
   "id": "a7b84f08658ae2aa",
   "outputs": [
    {
     "name": "stdout",
     "output_type": "stream",
     "text": [
      "Ranger archery lvl 5 with Heavy Crossbow +1                           , avg DPR: 16.3, Worst combat DPR: 0.0, Best combat DPR: 26.3\n"
     ]
    }
   ],
   "execution_count": 7
  },
  {
   "metadata": {
    "ExecuteTime": {
     "end_time": "2024-11-09T22:52:55.303244Z",
     "start_time": "2024-11-09T22:52:55.296641Z"
    }
   },
   "cell_type": "code",
   "source": [
    "import pandas as pd\n",
    "\n",
    "df = pd.DataFrame(raw)\n",
    "display(df)"
   ],
   "id": "33b39f6c6767f32a",
   "outputs": [
    {
     "name": "stdout",
     "output_type": "stream",
     "text": [
      "      0   1   2   3   4   5\n",
      "0     9  11  21   8  26  20\n",
      "1     8  22  20   0  12  17\n",
      "2    14  14  13  18  21  13\n",
      "3    12  27  14  11  10  20\n",
      "4     7  20  11  12  11  13\n",
      "..   ..  ..  ..  ..  ..  ..\n",
      "995  26  11  13  19   7  21\n",
      "996   0  11  27   8  13   0\n",
      "997  21  14  12  15  10  21\n",
      "998  15   6  16   9  15  14\n",
      "999   0  22  18  21  27  22\n",
      "\n",
      "[1000 rows x 6 columns]\n"
     ]
    }
   ],
   "execution_count": 10
  },
  {
   "metadata": {},
   "cell_type": "markdown",
   "source": "",
   "id": "c9895c52e999a217"
  }
 ],
 "metadata": {
  "kernelspec": {
   "display_name": "Python 3",
   "language": "python",
   "name": "python3"
  },
  "language_info": {
   "codemirror_mode": {
    "name": "ipython",
    "version": 2
   },
   "file_extension": ".py",
   "mimetype": "text/x-python",
   "name": "python",
   "nbconvert_exporter": "python",
   "pygments_lexer": "ipython2",
   "version": "2.7.6"
  }
 },
 "nbformat": 4,
 "nbformat_minor": 5
}
