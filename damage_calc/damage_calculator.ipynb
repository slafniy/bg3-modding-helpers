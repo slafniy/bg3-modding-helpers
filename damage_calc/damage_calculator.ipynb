{
 "cells": [
  {
   "cell_type": "code",
   "id": "b461bd86dcf4c0a4",
   "metadata": {
    "ExecuteTime": {
     "end_time": "2024-11-15T23:00:47.451505Z",
     "start_time": "2024-11-15T22:59:17.056666Z"
    }
   },
   "source": [
    "import logging\n",
    "\n",
    "from character import Character, logger, Passive\n",
    "from resource import RESOURCE_PROGRESSION_FIGHTER_CHAMPION, RESOURCE_PROGRESSION_BARBARIAN\n",
    "import weapon as wpn\n",
    "from data_processing import get_plot\n",
    "from simulator import simulate_combat\n",
    "\n",
    "logger.stream_handler.setLevel(logging.INFO)\n",
    "logger.file_handler.setLevel(logging.INFO)\n",
    "\n",
    "specs = [\n",
    "    # Character(\"Fighter Big Sword + GWM_V + SA\", weapon_main=wpn.TWO_HANDED_SWORD_1,\n",
    "    #           passives_progression={\n",
    "    #               1: {Passive.FIGHTING_STYLE_GREAT_WEAPON_FIGHTING},\n",
    "    #               4: {Passive.FEAT_GREAT_WEAPON_MASTER_VANILLA},\n",
    "    #               6: {Passive.FEAT_SAVAGE_ATTACKER},\n",
    "    #               5: {Passive.PASSIVE_EXTRA_ATTACK},\n",
    "    #               11: {Passive.PASSIVE_SECOND_EXTRA_ATTACK}\n",
    "    #           },\n",
    "    #           resource_progression=RESOURCE_PROGRESSION_FIGHTER_CHAMPION()),\n",
    "    Character(\"Fighter Big Sword + GWM_DT + SA\", weapon_main=wpn.TWO_HANDED_SWORD_1,\n",
    "              passives_progression={\n",
    "                  1: {Passive.FIGHTING_STYLE_GREAT_WEAPON_FIGHTING},\n",
    "                  4: {Passive.FEAT_GREAT_WEAPON_MASTER_DT},\n",
    "                  6: {Passive.FEAT_SAVAGE_ATTACKER},\n",
    "                  5: {Passive.PASSIVE_EXTRA_ATTACK},\n",
    "                  11: {Passive.PASSIVE_SECOND_EXTRA_ATTACK}\n",
    "              },\n",
    "              resource_progression=RESOURCE_PROGRESSION_FIGHTER_CHAMPION()),\n",
    "    Character(\"Fighter Duals + OEA + SA\", weapon_main=wpn.SHORT_SWORD_1, weapon_offhand=wpn.SHORT_SWORD_1,\n",
    "              passives_progression={\n",
    "                  1: {Passive.FIGHTING_STYLE_TWO_WEAPON_FIGHTING},\n",
    "                  4: {Passive.FEAT_EXTRA_OFFHAND_ATTACK},\n",
    "                  5: {Passive.PASSIVE_EXTRA_ATTACK},\n",
    "                  6: {Passive.FEAT_SAVAGE_ATTACKER},\n",
    "                  11: {Passive.PASSIVE_SECOND_EXTRA_ATTACK}\n",
    "              },\n",
    "              resource_progression=RESOURCE_PROGRESSION_FIGHTER_CHAMPION()),\n",
    "    # Character(\"Fighter Duals + OEA + DW + SA\", weapon_main=wpn.RAPIER_1, weapon_offhand=wpn.RAPIER_1,\n",
    "    #           passives_progression={\n",
    "    #               1: {Passive.FIGHTING_STYLE_TWO_WEAPON_FIGHTING},\n",
    "    #               4: {Passive.FEAT_EXTRA_OFFHAND_ATTACK},\n",
    "    #               5: {Passive.PASSIVE_EXTRA_ATTACK},\n",
    "    #               # 6: {Passive.DUAL_WIELDER},  # TODO: weapon progression\n",
    "    #               8: {Passive.FEAT_SAVAGE_ATTACKER},\n",
    "    #               11: {Passive.PASSIVE_SECOND_EXTRA_ATTACK}\n",
    "    #           },\n",
    "    # resource_progression = RESOURCE_PROGRESSION_FIGHTER_CHAMPION()),\n",
    "    # Character(\"Barbarian Big Sword + GWM_V + SA\", weapon_main=wpn.TWO_HANDED_SWORD_1,\n",
    "    #           passives_progression={\n",
    "    #               2: {Passive.PASSIVE_RECKLESS_ATTACK},\n",
    "    #               4: {Passive.FEAT_GREAT_WEAPON_MASTER_VANILLA},\n",
    "    #               5: {Passive.PASSIVE_EXTRA_ATTACK},\n",
    "    #               8: {Passive.FEAT_SAVAGE_ATTACKER}},\n",
    "    #           resource_progression=RESOURCE_PROGRESSION_BARBARIAN()),\n",
    "    Character(\"Barbarian Big Sword + GWM_DT + SA\", weapon_main=wpn.TWO_HANDED_SWORD_1,\n",
    "              passives_progression={\n",
    "                  2: {Passive.PASSIVE_RECKLESS_ATTACK},\n",
    "                  4: {Passive.FEAT_GREAT_WEAPON_MASTER_DT},\n",
    "                  5: {Passive.PASSIVE_EXTRA_ATTACK},\n",
    "                  8: {Passive.FEAT_SAVAGE_ATTACKER}},\n",
    "              resource_progression=RESOURCE_PROGRESSION_BARBARIAN()),\n",
    "    # Character(\"Fighter Heavy Crossbow + SS_V\", wpn.HEAVY_CROSSBOW_1,\n",
    "    #           passives_progression={\n",
    "    #               1: {Passive.FIGHTING_STYLE_ARCHERY},\n",
    "    #               4: {Passive.FEAT_SHARPSHOOTER_VANILLA},\n",
    "    #               5: {Passive.PASSIVE_EXTRA_ATTACK},\n",
    "    #               11: {Passive.PASSIVE_SECOND_EXTRA_ATTACK}\n",
    "    #           }),\n",
    "    Character(\"Fighter Heavy Crossbow + SS_DT\", wpn.HEAVY_CROSSBOW_1,\n",
    "              passives_progression={\n",
    "                  1: {Passive.FIGHTING_STYLE_ARCHERY},\n",
    "                  4: {Passive.FEAT_SHARPSHOOTER_DT},\n",
    "                  5: {Passive.PASSIVE_EXTRA_ATTACK},\n",
    "                  11: {Passive.PASSIVE_SECOND_EXTRA_ATTACK}\n",
    "              }),\n",
    "    Character(\"Ranger Heavy Crossbow + SS_DT\", wpn.HEAVY_CROSSBOW_1,\n",
    "              passives_progression={\n",
    "                  1: {Passive.FIGHTING_STYLE_ARCHERY},\n",
    "                  2: {Passive.PASSIVE_HUNTERS_MARK},\n",
    "                  4: {Passive.FEAT_SHARPSHOOTER_DT},\n",
    "                  5: {Passive.PASSIVE_EXTRA_ATTACK}\n",
    "              })\n",
    "]\n",
    "df_overall = simulate_combat(\n",
    "    specs,\n",
    "    target_ac_list=(16,),\n",
    "    iterations=3000,\n",
    "    rounds=5\n",
    ")\n",
    "\n",
    "df_5_8_11 = df_overall[df_overall['level'].isin([5, 8, 11])]\n",
    "df_5_8_11"
   ],
   "outputs": [
    {
     "data": {
      "text/plain": [
       "    level                               name  target_ac   mean_DPR\n",
       "20      5  Barbarian Big Sword + GWM_DT + SA         16  28.325400\n",
       "21      5    Fighter Big Sword + GWM_DT + SA         16  19.610533\n",
       "22      5           Fighter Duals + OEA + SA         16  19.933067\n",
       "23      5     Fighter Heavy Crossbow + SS_DT         16  18.129933\n",
       "24      5      Ranger Heavy Crossbow + SS_DT         16  23.281133\n",
       "35      8  Barbarian Big Sword + GWM_DT + SA         16  35.091133\n",
       "36      8    Fighter Big Sword + GWM_DT + SA         16  24.286533\n",
       "37      8           Fighter Duals + OEA + SA         16  27.220800\n",
       "38      8     Fighter Heavy Crossbow + SS_DT         16  22.404200\n",
       "39      8      Ranger Heavy Crossbow + SS_DT         16  27.933533\n",
       "50     11  Barbarian Big Sword + GWM_DT + SA         16  41.057000\n",
       "51     11    Fighter Big Sword + GWM_DT + SA         16  45.665200\n",
       "52     11           Fighter Duals + OEA + SA         16  43.632000\n",
       "53     11     Fighter Heavy Crossbow + SS_DT         16  42.703667\n",
       "54     11      Ranger Heavy Crossbow + SS_DT         16  34.777067"
      ],
      "text/html": [
       "<div>\n",
       "<style scoped>\n",
       "    .dataframe tbody tr th:only-of-type {\n",
       "        vertical-align: middle;\n",
       "    }\n",
       "\n",
       "    .dataframe tbody tr th {\n",
       "        vertical-align: top;\n",
       "    }\n",
       "\n",
       "    .dataframe thead th {\n",
       "        text-align: right;\n",
       "    }\n",
       "</style>\n",
       "<table border=\"1\" class=\"dataframe\">\n",
       "  <thead>\n",
       "    <tr style=\"text-align: right;\">\n",
       "      <th></th>\n",
       "      <th>level</th>\n",
       "      <th>name</th>\n",
       "      <th>target_ac</th>\n",
       "      <th>mean_DPR</th>\n",
       "    </tr>\n",
       "  </thead>\n",
       "  <tbody>\n",
       "    <tr>\n",
       "      <th>20</th>\n",
       "      <td>5</td>\n",
       "      <td>Barbarian Big Sword + GWM_DT + SA</td>\n",
       "      <td>16</td>\n",
       "      <td>28.325400</td>\n",
       "    </tr>\n",
       "    <tr>\n",
       "      <th>21</th>\n",
       "      <td>5</td>\n",
       "      <td>Fighter Big Sword + GWM_DT + SA</td>\n",
       "      <td>16</td>\n",
       "      <td>19.610533</td>\n",
       "    </tr>\n",
       "    <tr>\n",
       "      <th>22</th>\n",
       "      <td>5</td>\n",
       "      <td>Fighter Duals + OEA + SA</td>\n",
       "      <td>16</td>\n",
       "      <td>19.933067</td>\n",
       "    </tr>\n",
       "    <tr>\n",
       "      <th>23</th>\n",
       "      <td>5</td>\n",
       "      <td>Fighter Heavy Crossbow + SS_DT</td>\n",
       "      <td>16</td>\n",
       "      <td>18.129933</td>\n",
       "    </tr>\n",
       "    <tr>\n",
       "      <th>24</th>\n",
       "      <td>5</td>\n",
       "      <td>Ranger Heavy Crossbow + SS_DT</td>\n",
       "      <td>16</td>\n",
       "      <td>23.281133</td>\n",
       "    </tr>\n",
       "    <tr>\n",
       "      <th>35</th>\n",
       "      <td>8</td>\n",
       "      <td>Barbarian Big Sword + GWM_DT + SA</td>\n",
       "      <td>16</td>\n",
       "      <td>35.091133</td>\n",
       "    </tr>\n",
       "    <tr>\n",
       "      <th>36</th>\n",
       "      <td>8</td>\n",
       "      <td>Fighter Big Sword + GWM_DT + SA</td>\n",
       "      <td>16</td>\n",
       "      <td>24.286533</td>\n",
       "    </tr>\n",
       "    <tr>\n",
       "      <th>37</th>\n",
       "      <td>8</td>\n",
       "      <td>Fighter Duals + OEA + SA</td>\n",
       "      <td>16</td>\n",
       "      <td>27.220800</td>\n",
       "    </tr>\n",
       "    <tr>\n",
       "      <th>38</th>\n",
       "      <td>8</td>\n",
       "      <td>Fighter Heavy Crossbow + SS_DT</td>\n",
       "      <td>16</td>\n",
       "      <td>22.404200</td>\n",
       "    </tr>\n",
       "    <tr>\n",
       "      <th>39</th>\n",
       "      <td>8</td>\n",
       "      <td>Ranger Heavy Crossbow + SS_DT</td>\n",
       "      <td>16</td>\n",
       "      <td>27.933533</td>\n",
       "    </tr>\n",
       "    <tr>\n",
       "      <th>50</th>\n",
       "      <td>11</td>\n",
       "      <td>Barbarian Big Sword + GWM_DT + SA</td>\n",
       "      <td>16</td>\n",
       "      <td>41.057000</td>\n",
       "    </tr>\n",
       "    <tr>\n",
       "      <th>51</th>\n",
       "      <td>11</td>\n",
       "      <td>Fighter Big Sword + GWM_DT + SA</td>\n",
       "      <td>16</td>\n",
       "      <td>45.665200</td>\n",
       "    </tr>\n",
       "    <tr>\n",
       "      <th>52</th>\n",
       "      <td>11</td>\n",
       "      <td>Fighter Duals + OEA + SA</td>\n",
       "      <td>16</td>\n",
       "      <td>43.632000</td>\n",
       "    </tr>\n",
       "    <tr>\n",
       "      <th>53</th>\n",
       "      <td>11</td>\n",
       "      <td>Fighter Heavy Crossbow + SS_DT</td>\n",
       "      <td>16</td>\n",
       "      <td>42.703667</td>\n",
       "    </tr>\n",
       "    <tr>\n",
       "      <th>54</th>\n",
       "      <td>11</td>\n",
       "      <td>Ranger Heavy Crossbow + SS_DT</td>\n",
       "      <td>16</td>\n",
       "      <td>34.777067</td>\n",
       "    </tr>\n",
       "  </tbody>\n",
       "</table>\n",
       "</div>"
      ]
     },
     "execution_count": 3,
     "metadata": {},
     "output_type": "execute_result"
    }
   ],
   "execution_count": 3
  },
  {
   "cell_type": "code",
   "id": "162c229570acd6d7",
   "metadata": {
    "ExecuteTime": {
     "end_time": "2024-11-15T23:00:47.504992Z",
     "start_time": "2024-11-15T23:00:47.489094Z"
    }
   },
   "source": [
    "fig = get_plot(df_overall)\n",
    "fig.show()"
   ],
   "outputs": [
    {
     "data": {
      "application/vnd.plotly.v1+json": {
       "data": [
        {
         "line": {
          "color": "rgb(228,26,28)"
         },
         "mode": "lines+markers",
         "name": "AC16 Barbarian Big Sword + GWM_DT + SA",
         "x": [
          1,
          2,
          3,
          4,
          5,
          6,
          7,
          8,
          9,
          10,
          11,
          12
         ],
         "y": [
          7.499933333333333,
          10.310533333333332,
          10.378733333333333,
          13.399266666666668,
          28.3254,
          28.493333333333332,
          31.723,
          35.09113333333333,
          38.105466666666665,
          38.037866666666666,
          41.057,
          41.03073333333333
         ],
         "type": "scatter"
        },
        {
         "line": {
          "color": "rgb(55,126,184)"
         },
         "mode": "lines+markers",
         "name": "AC16 Fighter Big Sword + GWM_DT + SA",
         "x": [
          1,
          2,
          3,
          4,
          5,
          6,
          7,
          8,
          9,
          10,
          11,
          12
         ],
         "y": [
          7.120133333333333,
          8.097133333333334,
          8.174466666666667,
          8.7026,
          19.610533333333333,
          21.043866666666666,
          24.325533333333336,
          24.286533333333335,
          26.480533333333334,
          26.695466666666665,
          45.6652,
          45.56353333333333
         ],
         "type": "scatter"
        },
        {
         "line": {
          "color": "rgb(77,175,74)"
         },
         "mode": "lines+markers",
         "name": "AC16 Fighter Duals + OEA + SA",
         "x": [
          1,
          2,
          3,
          4,
          5,
          6,
          7,
          8,
          9,
          10,
          11,
          12
         ],
         "y": [
          8.674800000000001,
          9.133466666666667,
          9.177066666666667,
          13.416266666666667,
          19.933066666666665,
          22.674200000000003,
          27.32473333333333,
          27.220799999999997,
          29.284466666666663,
          29.347933333333334,
          43.632,
          43.534333333333336
         ],
         "type": "scatter"
        },
        {
         "line": {
          "color": "rgb(152,78,163)"
         },
         "mode": "lines+markers",
         "name": "AC16 Fighter Heavy Crossbow + SS_DT",
         "x": [
          1,
          2,
          3,
          4,
          5,
          6,
          7,
          8,
          9,
          10,
          11,
          12
         ],
         "y": [
          6.463666666666667,
          6.442,
          6.4497333333333335,
          8.386666666666667,
          18.129933333333334,
          18.205399999999997,
          22.3392,
          22.404200000000003,
          23.79426666666667,
          23.6934,
          42.70366666666666,
          42.846333333333334
         ],
         "type": "scatter"
        },
        {
         "line": {
          "color": "rgb(255,127,0)"
         },
         "mode": "lines+markers",
         "name": "AC16 Ranger Heavy Crossbow + SS_DT",
         "x": [
          1,
          2,
          3,
          4,
          5,
          6,
          7,
          8,
          9,
          10,
          11,
          12
         ],
         "y": [
          6.460800000000001,
          8.876466666666667,
          8.9914,
          10.9084,
          23.281133333333333,
          23.33073333333333,
          28.026600000000002,
          27.933533333333337,
          29.757133333333332,
          29.82786666666667,
          34.77706666666666,
          34.82853333333333
         ],
         "type": "scatter"
        }
       ],
       "layout": {
        "template": {
         "data": {
          "histogram2dcontour": [
           {
            "type": "histogram2dcontour",
            "colorbar": {
             "outlinewidth": 0,
             "ticks": ""
            },
            "colorscale": [
             [
              0.0,
              "#0d0887"
             ],
             [
              0.1111111111111111,
              "#46039f"
             ],
             [
              0.2222222222222222,
              "#7201a8"
             ],
             [
              0.3333333333333333,
              "#9c179e"
             ],
             [
              0.4444444444444444,
              "#bd3786"
             ],
             [
              0.5555555555555556,
              "#d8576b"
             ],
             [
              0.6666666666666666,
              "#ed7953"
             ],
             [
              0.7777777777777778,
              "#fb9f3a"
             ],
             [
              0.8888888888888888,
              "#fdca26"
             ],
             [
              1.0,
              "#f0f921"
             ]
            ]
           }
          ],
          "choropleth": [
           {
            "type": "choropleth",
            "colorbar": {
             "outlinewidth": 0,
             "ticks": ""
            }
           }
          ],
          "histogram2d": [
           {
            "type": "histogram2d",
            "colorbar": {
             "outlinewidth": 0,
             "ticks": ""
            },
            "colorscale": [
             [
              0.0,
              "#0d0887"
             ],
             [
              0.1111111111111111,
              "#46039f"
             ],
             [
              0.2222222222222222,
              "#7201a8"
             ],
             [
              0.3333333333333333,
              "#9c179e"
             ],
             [
              0.4444444444444444,
              "#bd3786"
             ],
             [
              0.5555555555555556,
              "#d8576b"
             ],
             [
              0.6666666666666666,
              "#ed7953"
             ],
             [
              0.7777777777777778,
              "#fb9f3a"
             ],
             [
              0.8888888888888888,
              "#fdca26"
             ],
             [
              1.0,
              "#f0f921"
             ]
            ]
           }
          ],
          "heatmap": [
           {
            "type": "heatmap",
            "colorbar": {
             "outlinewidth": 0,
             "ticks": ""
            },
            "colorscale": [
             [
              0.0,
              "#0d0887"
             ],
             [
              0.1111111111111111,
              "#46039f"
             ],
             [
              0.2222222222222222,
              "#7201a8"
             ],
             [
              0.3333333333333333,
              "#9c179e"
             ],
             [
              0.4444444444444444,
              "#bd3786"
             ],
             [
              0.5555555555555556,
              "#d8576b"
             ],
             [
              0.6666666666666666,
              "#ed7953"
             ],
             [
              0.7777777777777778,
              "#fb9f3a"
             ],
             [
              0.8888888888888888,
              "#fdca26"
             ],
             [
              1.0,
              "#f0f921"
             ]
            ]
           }
          ],
          "heatmapgl": [
           {
            "type": "heatmapgl",
            "colorbar": {
             "outlinewidth": 0,
             "ticks": ""
            },
            "colorscale": [
             [
              0.0,
              "#0d0887"
             ],
             [
              0.1111111111111111,
              "#46039f"
             ],
             [
              0.2222222222222222,
              "#7201a8"
             ],
             [
              0.3333333333333333,
              "#9c179e"
             ],
             [
              0.4444444444444444,
              "#bd3786"
             ],
             [
              0.5555555555555556,
              "#d8576b"
             ],
             [
              0.6666666666666666,
              "#ed7953"
             ],
             [
              0.7777777777777778,
              "#fb9f3a"
             ],
             [
              0.8888888888888888,
              "#fdca26"
             ],
             [
              1.0,
              "#f0f921"
             ]
            ]
           }
          ],
          "contourcarpet": [
           {
            "type": "contourcarpet",
            "colorbar": {
             "outlinewidth": 0,
             "ticks": ""
            }
           }
          ],
          "contour": [
           {
            "type": "contour",
            "colorbar": {
             "outlinewidth": 0,
             "ticks": ""
            },
            "colorscale": [
             [
              0.0,
              "#0d0887"
             ],
             [
              0.1111111111111111,
              "#46039f"
             ],
             [
              0.2222222222222222,
              "#7201a8"
             ],
             [
              0.3333333333333333,
              "#9c179e"
             ],
             [
              0.4444444444444444,
              "#bd3786"
             ],
             [
              0.5555555555555556,
              "#d8576b"
             ],
             [
              0.6666666666666666,
              "#ed7953"
             ],
             [
              0.7777777777777778,
              "#fb9f3a"
             ],
             [
              0.8888888888888888,
              "#fdca26"
             ],
             [
              1.0,
              "#f0f921"
             ]
            ]
           }
          ],
          "surface": [
           {
            "type": "surface",
            "colorbar": {
             "outlinewidth": 0,
             "ticks": ""
            },
            "colorscale": [
             [
              0.0,
              "#0d0887"
             ],
             [
              0.1111111111111111,
              "#46039f"
             ],
             [
              0.2222222222222222,
              "#7201a8"
             ],
             [
              0.3333333333333333,
              "#9c179e"
             ],
             [
              0.4444444444444444,
              "#bd3786"
             ],
             [
              0.5555555555555556,
              "#d8576b"
             ],
             [
              0.6666666666666666,
              "#ed7953"
             ],
             [
              0.7777777777777778,
              "#fb9f3a"
             ],
             [
              0.8888888888888888,
              "#fdca26"
             ],
             [
              1.0,
              "#f0f921"
             ]
            ]
           }
          ],
          "mesh3d": [
           {
            "type": "mesh3d",
            "colorbar": {
             "outlinewidth": 0,
             "ticks": ""
            }
           }
          ],
          "scatter": [
           {
            "fillpattern": {
             "fillmode": "overlay",
             "size": 10,
             "solidity": 0.2
            },
            "type": "scatter"
           }
          ],
          "parcoords": [
           {
            "type": "parcoords",
            "line": {
             "colorbar": {
              "outlinewidth": 0,
              "ticks": ""
             }
            }
           }
          ],
          "scatterpolargl": [
           {
            "type": "scatterpolargl",
            "marker": {
             "colorbar": {
              "outlinewidth": 0,
              "ticks": ""
             }
            }
           }
          ],
          "bar": [
           {
            "error_x": {
             "color": "#2a3f5f"
            },
            "error_y": {
             "color": "#2a3f5f"
            },
            "marker": {
             "line": {
              "color": "#E5ECF6",
              "width": 0.5
             },
             "pattern": {
              "fillmode": "overlay",
              "size": 10,
              "solidity": 0.2
             }
            },
            "type": "bar"
           }
          ],
          "scattergeo": [
           {
            "type": "scattergeo",
            "marker": {
             "colorbar": {
              "outlinewidth": 0,
              "ticks": ""
             }
            }
           }
          ],
          "scatterpolar": [
           {
            "type": "scatterpolar",
            "marker": {
             "colorbar": {
              "outlinewidth": 0,
              "ticks": ""
             }
            }
           }
          ],
          "histogram": [
           {
            "marker": {
             "pattern": {
              "fillmode": "overlay",
              "size": 10,
              "solidity": 0.2
             }
            },
            "type": "histogram"
           }
          ],
          "scattergl": [
           {
            "type": "scattergl",
            "marker": {
             "colorbar": {
              "outlinewidth": 0,
              "ticks": ""
             }
            }
           }
          ],
          "scatter3d": [
           {
            "type": "scatter3d",
            "line": {
             "colorbar": {
              "outlinewidth": 0,
              "ticks": ""
             }
            },
            "marker": {
             "colorbar": {
              "outlinewidth": 0,
              "ticks": ""
             }
            }
           }
          ],
          "scattermapbox": [
           {
            "type": "scattermapbox",
            "marker": {
             "colorbar": {
              "outlinewidth": 0,
              "ticks": ""
             }
            }
           }
          ],
          "scatterternary": [
           {
            "type": "scatterternary",
            "marker": {
             "colorbar": {
              "outlinewidth": 0,
              "ticks": ""
             }
            }
           }
          ],
          "scattercarpet": [
           {
            "type": "scattercarpet",
            "marker": {
             "colorbar": {
              "outlinewidth": 0,
              "ticks": ""
             }
            }
           }
          ],
          "carpet": [
           {
            "aaxis": {
             "endlinecolor": "#2a3f5f",
             "gridcolor": "white",
             "linecolor": "white",
             "minorgridcolor": "white",
             "startlinecolor": "#2a3f5f"
            },
            "baxis": {
             "endlinecolor": "#2a3f5f",
             "gridcolor": "white",
             "linecolor": "white",
             "minorgridcolor": "white",
             "startlinecolor": "#2a3f5f"
            },
            "type": "carpet"
           }
          ],
          "table": [
           {
            "cells": {
             "fill": {
              "color": "#EBF0F8"
             },
             "line": {
              "color": "white"
             }
            },
            "header": {
             "fill": {
              "color": "#C8D4E3"
             },
             "line": {
              "color": "white"
             }
            },
            "type": "table"
           }
          ],
          "barpolar": [
           {
            "marker": {
             "line": {
              "color": "#E5ECF6",
              "width": 0.5
             },
             "pattern": {
              "fillmode": "overlay",
              "size": 10,
              "solidity": 0.2
             }
            },
            "type": "barpolar"
           }
          ],
          "pie": [
           {
            "automargin": true,
            "type": "pie"
           }
          ]
         },
         "layout": {
          "autotypenumbers": "strict",
          "colorway": [
           "#636efa",
           "#EF553B",
           "#00cc96",
           "#ab63fa",
           "#FFA15A",
           "#19d3f3",
           "#FF6692",
           "#B6E880",
           "#FF97FF",
           "#FECB52"
          ],
          "font": {
           "color": "#2a3f5f"
          },
          "hovermode": "closest",
          "hoverlabel": {
           "align": "left"
          },
          "paper_bgcolor": "white",
          "plot_bgcolor": "#E5ECF6",
          "polar": {
           "bgcolor": "#E5ECF6",
           "angularaxis": {
            "gridcolor": "white",
            "linecolor": "white",
            "ticks": ""
           },
           "radialaxis": {
            "gridcolor": "white",
            "linecolor": "white",
            "ticks": ""
           }
          },
          "ternary": {
           "bgcolor": "#E5ECF6",
           "aaxis": {
            "gridcolor": "white",
            "linecolor": "white",
            "ticks": ""
           },
           "baxis": {
            "gridcolor": "white",
            "linecolor": "white",
            "ticks": ""
           },
           "caxis": {
            "gridcolor": "white",
            "linecolor": "white",
            "ticks": ""
           }
          },
          "coloraxis": {
           "colorbar": {
            "outlinewidth": 0,
            "ticks": ""
           }
          },
          "colorscale": {
           "sequential": [
            [
             0.0,
             "#0d0887"
            ],
            [
             0.1111111111111111,
             "#46039f"
            ],
            [
             0.2222222222222222,
             "#7201a8"
            ],
            [
             0.3333333333333333,
             "#9c179e"
            ],
            [
             0.4444444444444444,
             "#bd3786"
            ],
            [
             0.5555555555555556,
             "#d8576b"
            ],
            [
             0.6666666666666666,
             "#ed7953"
            ],
            [
             0.7777777777777778,
             "#fb9f3a"
            ],
            [
             0.8888888888888888,
             "#fdca26"
            ],
            [
             1.0,
             "#f0f921"
            ]
           ],
           "sequentialminus": [
            [
             0.0,
             "#0d0887"
            ],
            [
             0.1111111111111111,
             "#46039f"
            ],
            [
             0.2222222222222222,
             "#7201a8"
            ],
            [
             0.3333333333333333,
             "#9c179e"
            ],
            [
             0.4444444444444444,
             "#bd3786"
            ],
            [
             0.5555555555555556,
             "#d8576b"
            ],
            [
             0.6666666666666666,
             "#ed7953"
            ],
            [
             0.7777777777777778,
             "#fb9f3a"
            ],
            [
             0.8888888888888888,
             "#fdca26"
            ],
            [
             1.0,
             "#f0f921"
            ]
           ],
           "diverging": [
            [
             0,
             "#8e0152"
            ],
            [
             0.1,
             "#c51b7d"
            ],
            [
             0.2,
             "#de77ae"
            ],
            [
             0.3,
             "#f1b6da"
            ],
            [
             0.4,
             "#fde0ef"
            ],
            [
             0.5,
             "#f7f7f7"
            ],
            [
             0.6,
             "#e6f5d0"
            ],
            [
             0.7,
             "#b8e186"
            ],
            [
             0.8,
             "#7fbc41"
            ],
            [
             0.9,
             "#4d9221"
            ],
            [
             1,
             "#276419"
            ]
           ]
          },
          "xaxis": {
           "gridcolor": "white",
           "linecolor": "white",
           "ticks": "",
           "title": {
            "standoff": 15
           },
           "zerolinecolor": "white",
           "automargin": true,
           "zerolinewidth": 2
          },
          "yaxis": {
           "gridcolor": "white",
           "linecolor": "white",
           "ticks": "",
           "title": {
            "standoff": 15
           },
           "zerolinecolor": "white",
           "automargin": true,
           "zerolinewidth": 2
          },
          "scene": {
           "xaxis": {
            "backgroundcolor": "#E5ECF6",
            "gridcolor": "white",
            "linecolor": "white",
            "showbackground": true,
            "ticks": "",
            "zerolinecolor": "white",
            "gridwidth": 2
           },
           "yaxis": {
            "backgroundcolor": "#E5ECF6",
            "gridcolor": "white",
            "linecolor": "white",
            "showbackground": true,
            "ticks": "",
            "zerolinecolor": "white",
            "gridwidth": 2
           },
           "zaxis": {
            "backgroundcolor": "#E5ECF6",
            "gridcolor": "white",
            "linecolor": "white",
            "showbackground": true,
            "ticks": "",
            "zerolinecolor": "white",
            "gridwidth": 2
           }
          },
          "shapedefaults": {
           "line": {
            "color": "#2a3f5f"
           }
          },
          "annotationdefaults": {
           "arrowcolor": "#2a3f5f",
           "arrowhead": 0,
           "arrowwidth": 1
          },
          "geo": {
           "bgcolor": "white",
           "landcolor": "#E5ECF6",
           "subunitcolor": "white",
           "showland": true,
           "showlakes": true,
           "lakecolor": "white"
          },
          "title": {
           "x": 0.05
          },
          "mapbox": {
           "style": "light"
          }
         }
        },
        "height": 800
       },
       "config": {
        "plotlyServerURL": "https://plot.ly"
       }
      },
      "text/html": [
       "<div>                            <div id=\"6f3083d8-d9cd-4cfc-b81b-832350364920\" class=\"plotly-graph-div\" style=\"height:800px; width:100%;\"></div>            <script type=\"text/javascript\">                require([\"plotly\"], function(Plotly) {                    window.PLOTLYENV=window.PLOTLYENV || {};                                    if (document.getElementById(\"6f3083d8-d9cd-4cfc-b81b-832350364920\")) {                    Plotly.newPlot(                        \"6f3083d8-d9cd-4cfc-b81b-832350364920\",                        [{\"line\":{\"color\":\"rgb(228,26,28)\"},\"mode\":\"lines+markers\",\"name\":\"AC16 Barbarian Big Sword + GWM_DT + SA\",\"x\":[1,2,3,4,5,6,7,8,9,10,11,12],\"y\":[7.499933333333333,10.310533333333332,10.378733333333333,13.399266666666668,28.3254,28.493333333333332,31.723,35.09113333333333,38.105466666666665,38.037866666666666,41.057,41.03073333333333],\"type\":\"scatter\"},{\"line\":{\"color\":\"rgb(55,126,184)\"},\"mode\":\"lines+markers\",\"name\":\"AC16 Fighter Big Sword + GWM_DT + SA\",\"x\":[1,2,3,4,5,6,7,8,9,10,11,12],\"y\":[7.120133333333333,8.097133333333334,8.174466666666667,8.7026,19.610533333333333,21.043866666666666,24.325533333333336,24.286533333333335,26.480533333333334,26.695466666666665,45.6652,45.56353333333333],\"type\":\"scatter\"},{\"line\":{\"color\":\"rgb(77,175,74)\"},\"mode\":\"lines+markers\",\"name\":\"AC16 Fighter Duals + OEA + SA\",\"x\":[1,2,3,4,5,6,7,8,9,10,11,12],\"y\":[8.674800000000001,9.133466666666667,9.177066666666667,13.416266666666667,19.933066666666665,22.674200000000003,27.32473333333333,27.220799999999997,29.284466666666663,29.347933333333334,43.632,43.534333333333336],\"type\":\"scatter\"},{\"line\":{\"color\":\"rgb(152,78,163)\"},\"mode\":\"lines+markers\",\"name\":\"AC16 Fighter Heavy Crossbow + SS_DT\",\"x\":[1,2,3,4,5,6,7,8,9,10,11,12],\"y\":[6.463666666666667,6.442,6.4497333333333335,8.386666666666667,18.129933333333334,18.205399999999997,22.3392,22.404200000000003,23.79426666666667,23.6934,42.70366666666666,42.846333333333334],\"type\":\"scatter\"},{\"line\":{\"color\":\"rgb(255,127,0)\"},\"mode\":\"lines+markers\",\"name\":\"AC16 Ranger Heavy Crossbow + SS_DT\",\"x\":[1,2,3,4,5,6,7,8,9,10,11,12],\"y\":[6.460800000000001,8.876466666666667,8.9914,10.9084,23.281133333333333,23.33073333333333,28.026600000000002,27.933533333333337,29.757133333333332,29.82786666666667,34.77706666666666,34.82853333333333],\"type\":\"scatter\"}],                        {\"template\":{\"data\":{\"histogram2dcontour\":[{\"type\":\"histogram2dcontour\",\"colorbar\":{\"outlinewidth\":0,\"ticks\":\"\"},\"colorscale\":[[0.0,\"#0d0887\"],[0.1111111111111111,\"#46039f\"],[0.2222222222222222,\"#7201a8\"],[0.3333333333333333,\"#9c179e\"],[0.4444444444444444,\"#bd3786\"],[0.5555555555555556,\"#d8576b\"],[0.6666666666666666,\"#ed7953\"],[0.7777777777777778,\"#fb9f3a\"],[0.8888888888888888,\"#fdca26\"],[1.0,\"#f0f921\"]]}],\"choropleth\":[{\"type\":\"choropleth\",\"colorbar\":{\"outlinewidth\":0,\"ticks\":\"\"}}],\"histogram2d\":[{\"type\":\"histogram2d\",\"colorbar\":{\"outlinewidth\":0,\"ticks\":\"\"},\"colorscale\":[[0.0,\"#0d0887\"],[0.1111111111111111,\"#46039f\"],[0.2222222222222222,\"#7201a8\"],[0.3333333333333333,\"#9c179e\"],[0.4444444444444444,\"#bd3786\"],[0.5555555555555556,\"#d8576b\"],[0.6666666666666666,\"#ed7953\"],[0.7777777777777778,\"#fb9f3a\"],[0.8888888888888888,\"#fdca26\"],[1.0,\"#f0f921\"]]}],\"heatmap\":[{\"type\":\"heatmap\",\"colorbar\":{\"outlinewidth\":0,\"ticks\":\"\"},\"colorscale\":[[0.0,\"#0d0887\"],[0.1111111111111111,\"#46039f\"],[0.2222222222222222,\"#7201a8\"],[0.3333333333333333,\"#9c179e\"],[0.4444444444444444,\"#bd3786\"],[0.5555555555555556,\"#d8576b\"],[0.6666666666666666,\"#ed7953\"],[0.7777777777777778,\"#fb9f3a\"],[0.8888888888888888,\"#fdca26\"],[1.0,\"#f0f921\"]]}],\"heatmapgl\":[{\"type\":\"heatmapgl\",\"colorbar\":{\"outlinewidth\":0,\"ticks\":\"\"},\"colorscale\":[[0.0,\"#0d0887\"],[0.1111111111111111,\"#46039f\"],[0.2222222222222222,\"#7201a8\"],[0.3333333333333333,\"#9c179e\"],[0.4444444444444444,\"#bd3786\"],[0.5555555555555556,\"#d8576b\"],[0.6666666666666666,\"#ed7953\"],[0.7777777777777778,\"#fb9f3a\"],[0.8888888888888888,\"#fdca26\"],[1.0,\"#f0f921\"]]}],\"contourcarpet\":[{\"type\":\"contourcarpet\",\"colorbar\":{\"outlinewidth\":0,\"ticks\":\"\"}}],\"contour\":[{\"type\":\"contour\",\"colorbar\":{\"outlinewidth\":0,\"ticks\":\"\"},\"colorscale\":[[0.0,\"#0d0887\"],[0.1111111111111111,\"#46039f\"],[0.2222222222222222,\"#7201a8\"],[0.3333333333333333,\"#9c179e\"],[0.4444444444444444,\"#bd3786\"],[0.5555555555555556,\"#d8576b\"],[0.6666666666666666,\"#ed7953\"],[0.7777777777777778,\"#fb9f3a\"],[0.8888888888888888,\"#fdca26\"],[1.0,\"#f0f921\"]]}],\"surface\":[{\"type\":\"surface\",\"colorbar\":{\"outlinewidth\":0,\"ticks\":\"\"},\"colorscale\":[[0.0,\"#0d0887\"],[0.1111111111111111,\"#46039f\"],[0.2222222222222222,\"#7201a8\"],[0.3333333333333333,\"#9c179e\"],[0.4444444444444444,\"#bd3786\"],[0.5555555555555556,\"#d8576b\"],[0.6666666666666666,\"#ed7953\"],[0.7777777777777778,\"#fb9f3a\"],[0.8888888888888888,\"#fdca26\"],[1.0,\"#f0f921\"]]}],\"mesh3d\":[{\"type\":\"mesh3d\",\"colorbar\":{\"outlinewidth\":0,\"ticks\":\"\"}}],\"scatter\":[{\"fillpattern\":{\"fillmode\":\"overlay\",\"size\":10,\"solidity\":0.2},\"type\":\"scatter\"}],\"parcoords\":[{\"type\":\"parcoords\",\"line\":{\"colorbar\":{\"outlinewidth\":0,\"ticks\":\"\"}}}],\"scatterpolargl\":[{\"type\":\"scatterpolargl\",\"marker\":{\"colorbar\":{\"outlinewidth\":0,\"ticks\":\"\"}}}],\"bar\":[{\"error_x\":{\"color\":\"#2a3f5f\"},\"error_y\":{\"color\":\"#2a3f5f\"},\"marker\":{\"line\":{\"color\":\"#E5ECF6\",\"width\":0.5},\"pattern\":{\"fillmode\":\"overlay\",\"size\":10,\"solidity\":0.2}},\"type\":\"bar\"}],\"scattergeo\":[{\"type\":\"scattergeo\",\"marker\":{\"colorbar\":{\"outlinewidth\":0,\"ticks\":\"\"}}}],\"scatterpolar\":[{\"type\":\"scatterpolar\",\"marker\":{\"colorbar\":{\"outlinewidth\":0,\"ticks\":\"\"}}}],\"histogram\":[{\"marker\":{\"pattern\":{\"fillmode\":\"overlay\",\"size\":10,\"solidity\":0.2}},\"type\":\"histogram\"}],\"scattergl\":[{\"type\":\"scattergl\",\"marker\":{\"colorbar\":{\"outlinewidth\":0,\"ticks\":\"\"}}}],\"scatter3d\":[{\"type\":\"scatter3d\",\"line\":{\"colorbar\":{\"outlinewidth\":0,\"ticks\":\"\"}},\"marker\":{\"colorbar\":{\"outlinewidth\":0,\"ticks\":\"\"}}}],\"scattermapbox\":[{\"type\":\"scattermapbox\",\"marker\":{\"colorbar\":{\"outlinewidth\":0,\"ticks\":\"\"}}}],\"scatterternary\":[{\"type\":\"scatterternary\",\"marker\":{\"colorbar\":{\"outlinewidth\":0,\"ticks\":\"\"}}}],\"scattercarpet\":[{\"type\":\"scattercarpet\",\"marker\":{\"colorbar\":{\"outlinewidth\":0,\"ticks\":\"\"}}}],\"carpet\":[{\"aaxis\":{\"endlinecolor\":\"#2a3f5f\",\"gridcolor\":\"white\",\"linecolor\":\"white\",\"minorgridcolor\":\"white\",\"startlinecolor\":\"#2a3f5f\"},\"baxis\":{\"endlinecolor\":\"#2a3f5f\",\"gridcolor\":\"white\",\"linecolor\":\"white\",\"minorgridcolor\":\"white\",\"startlinecolor\":\"#2a3f5f\"},\"type\":\"carpet\"}],\"table\":[{\"cells\":{\"fill\":{\"color\":\"#EBF0F8\"},\"line\":{\"color\":\"white\"}},\"header\":{\"fill\":{\"color\":\"#C8D4E3\"},\"line\":{\"color\":\"white\"}},\"type\":\"table\"}],\"barpolar\":[{\"marker\":{\"line\":{\"color\":\"#E5ECF6\",\"width\":0.5},\"pattern\":{\"fillmode\":\"overlay\",\"size\":10,\"solidity\":0.2}},\"type\":\"barpolar\"}],\"pie\":[{\"automargin\":true,\"type\":\"pie\"}]},\"layout\":{\"autotypenumbers\":\"strict\",\"colorway\":[\"#636efa\",\"#EF553B\",\"#00cc96\",\"#ab63fa\",\"#FFA15A\",\"#19d3f3\",\"#FF6692\",\"#B6E880\",\"#FF97FF\",\"#FECB52\"],\"font\":{\"color\":\"#2a3f5f\"},\"hovermode\":\"closest\",\"hoverlabel\":{\"align\":\"left\"},\"paper_bgcolor\":\"white\",\"plot_bgcolor\":\"#E5ECF6\",\"polar\":{\"bgcolor\":\"#E5ECF6\",\"angularaxis\":{\"gridcolor\":\"white\",\"linecolor\":\"white\",\"ticks\":\"\"},\"radialaxis\":{\"gridcolor\":\"white\",\"linecolor\":\"white\",\"ticks\":\"\"}},\"ternary\":{\"bgcolor\":\"#E5ECF6\",\"aaxis\":{\"gridcolor\":\"white\",\"linecolor\":\"white\",\"ticks\":\"\"},\"baxis\":{\"gridcolor\":\"white\",\"linecolor\":\"white\",\"ticks\":\"\"},\"caxis\":{\"gridcolor\":\"white\",\"linecolor\":\"white\",\"ticks\":\"\"}},\"coloraxis\":{\"colorbar\":{\"outlinewidth\":0,\"ticks\":\"\"}},\"colorscale\":{\"sequential\":[[0.0,\"#0d0887\"],[0.1111111111111111,\"#46039f\"],[0.2222222222222222,\"#7201a8\"],[0.3333333333333333,\"#9c179e\"],[0.4444444444444444,\"#bd3786\"],[0.5555555555555556,\"#d8576b\"],[0.6666666666666666,\"#ed7953\"],[0.7777777777777778,\"#fb9f3a\"],[0.8888888888888888,\"#fdca26\"],[1.0,\"#f0f921\"]],\"sequentialminus\":[[0.0,\"#0d0887\"],[0.1111111111111111,\"#46039f\"],[0.2222222222222222,\"#7201a8\"],[0.3333333333333333,\"#9c179e\"],[0.4444444444444444,\"#bd3786\"],[0.5555555555555556,\"#d8576b\"],[0.6666666666666666,\"#ed7953\"],[0.7777777777777778,\"#fb9f3a\"],[0.8888888888888888,\"#fdca26\"],[1.0,\"#f0f921\"]],\"diverging\":[[0,\"#8e0152\"],[0.1,\"#c51b7d\"],[0.2,\"#de77ae\"],[0.3,\"#f1b6da\"],[0.4,\"#fde0ef\"],[0.5,\"#f7f7f7\"],[0.6,\"#e6f5d0\"],[0.7,\"#b8e186\"],[0.8,\"#7fbc41\"],[0.9,\"#4d9221\"],[1,\"#276419\"]]},\"xaxis\":{\"gridcolor\":\"white\",\"linecolor\":\"white\",\"ticks\":\"\",\"title\":{\"standoff\":15},\"zerolinecolor\":\"white\",\"automargin\":true,\"zerolinewidth\":2},\"yaxis\":{\"gridcolor\":\"white\",\"linecolor\":\"white\",\"ticks\":\"\",\"title\":{\"standoff\":15},\"zerolinecolor\":\"white\",\"automargin\":true,\"zerolinewidth\":2},\"scene\":{\"xaxis\":{\"backgroundcolor\":\"#E5ECF6\",\"gridcolor\":\"white\",\"linecolor\":\"white\",\"showbackground\":true,\"ticks\":\"\",\"zerolinecolor\":\"white\",\"gridwidth\":2},\"yaxis\":{\"backgroundcolor\":\"#E5ECF6\",\"gridcolor\":\"white\",\"linecolor\":\"white\",\"showbackground\":true,\"ticks\":\"\",\"zerolinecolor\":\"white\",\"gridwidth\":2},\"zaxis\":{\"backgroundcolor\":\"#E5ECF6\",\"gridcolor\":\"white\",\"linecolor\":\"white\",\"showbackground\":true,\"ticks\":\"\",\"zerolinecolor\":\"white\",\"gridwidth\":2}},\"shapedefaults\":{\"line\":{\"color\":\"#2a3f5f\"}},\"annotationdefaults\":{\"arrowcolor\":\"#2a3f5f\",\"arrowhead\":0,\"arrowwidth\":1},\"geo\":{\"bgcolor\":\"white\",\"landcolor\":\"#E5ECF6\",\"subunitcolor\":\"white\",\"showland\":true,\"showlakes\":true,\"lakecolor\":\"white\"},\"title\":{\"x\":0.05},\"mapbox\":{\"style\":\"light\"}}},\"height\":800},                        {\"responsive\": true}                    ).then(function(){\n",
       "                            \n",
       "var gd = document.getElementById('6f3083d8-d9cd-4cfc-b81b-832350364920');\n",
       "var x = new MutationObserver(function (mutations, observer) {{\n",
       "        var display = window.getComputedStyle(gd).display;\n",
       "        if (!display || display === 'none') {{\n",
       "            console.log([gd, 'removed!']);\n",
       "            Plotly.purge(gd);\n",
       "            observer.disconnect();\n",
       "        }}\n",
       "}});\n",
       "\n",
       "// Listen for the removal of the full notebook cells\n",
       "var notebookContainer = gd.closest('#notebook-container');\n",
       "if (notebookContainer) {{\n",
       "    x.observe(notebookContainer, {childList: true});\n",
       "}}\n",
       "\n",
       "// Listen for the clearing of the current output cell\n",
       "var outputEl = gd.closest('.output');\n",
       "if (outputEl) {{\n",
       "    x.observe(outputEl, {childList: true});\n",
       "}}\n",
       "\n",
       "                        })                };                });            </script>        </div>"
      ]
     },
     "metadata": {},
     "output_type": "display_data"
    }
   ],
   "execution_count": 4
  }
 ],
 "metadata": {
  "kernelspec": {
   "display_name": "Python 3 (ipykernel)",
   "language": "python",
   "name": "python3"
  },
  "language_info": {
   "codemirror_mode": {
    "name": "ipython",
    "version": 3
   },
   "file_extension": ".py",
   "mimetype": "text/x-python",
   "name": "python",
   "nbconvert_exporter": "python",
   "pygments_lexer": "ipython3",
   "version": "3.13.0"
  }
 },
 "nbformat": 4,
 "nbformat_minor": 5
}
